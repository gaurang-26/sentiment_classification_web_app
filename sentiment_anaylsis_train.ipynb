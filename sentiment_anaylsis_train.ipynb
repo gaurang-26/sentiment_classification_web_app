{
  "nbformat": 4,
  "nbformat_minor": 0,
  "metadata": {
    "colab": {
      "name": "sentiment_anaylsis_train.ipynb",
      "provenance": []
    },
    "kernelspec": {
      "name": "python3",
      "display_name": "Python 3"
    },
    "accelerator": "GPU"
  },
  "cells": [
    {
      "cell_type": "code",
      "metadata": {
        "id": "Ejuz2nsSLxQv",
        "colab_type": "code",
        "colab": {
          "base_uri": "https://localhost:8080/",
          "height": 35
        },
        "outputId": "c3e3852d-8293-4b38-9d15-55aad3a59ed0"
      },
      "source": [
        "!pip install numpy==1.16.1"
      ],
      "execution_count": 1,
      "outputs": [
        {
          "output_type": "stream",
          "text": [
            "Requirement already satisfied: numpy==1.16.1 in /usr/local/lib/python3.6/dist-packages (1.16.1)\n"
          ],
          "name": "stdout"
        }
      ]
    },
    {
      "cell_type": "code",
      "metadata": {
        "id": "E8Iui-9WMJ-f",
        "colab_type": "code",
        "colab": {
          "base_uri": "https://localhost:8080/",
          "height": 35
        },
        "outputId": "22c3003b-1a9d-4abd-f4c7-09c56bf72627"
      },
      "source": [
        "import numpy\n",
        "from numpy import array\n",
        "from keras.datasets import imdb\n",
        "from keras.models import Sequential\n",
        "from keras.layers import Dense\n",
        "from keras.layers import LSTM, Dropout\n",
        "from keras.layers.embeddings import Embedding\n",
        "from keras.preprocessing import sequence\n",
        "from keras.models import load_model\n",
        "import re\n",
        "import numpy as np\n",
        "from nltk.tokenize import word_tokenize\n",
        "import nltk\n",
        "\n",
        "# fix random seed for reproducibility\n",
        "numpy.random.seed(7)\n"
      ],
      "execution_count": 2,
      "outputs": [
        {
          "output_type": "stream",
          "text": [
            "Using TensorFlow backend.\n"
          ],
          "name": "stderr"
        }
      ]
    },
    {
      "cell_type": "code",
      "metadata": {
        "id": "HRc3ZcfQMK0R",
        "colab_type": "code",
        "colab": {
          "base_uri": "https://localhost:8080/",
          "height": 53
        },
        "outputId": "5ad41cc5-efbf-4fc1-a43c-db68887140e1"
      },
      "source": [
        "top_words = 5000 #vocabulary_size = 5000\n",
        "(X_train, y_train), (X_test, y_test) = imdb.load_data(num_words=top_words)\n"
      ],
      "execution_count": 3,
      "outputs": [
        {
          "output_type": "stream",
          "text": [
            "Downloading data from https://s3.amazonaws.com/text-datasets/imdb.npz\n",
            "17465344/17464789 [==============================] - 3s 0us/step\n"
          ],
          "name": "stdout"
        }
      ]
    },
    {
      "cell_type": "code",
      "metadata": {
        "id": "0QElwpIsMPy3",
        "colab_type": "code",
        "colab": {
          "base_uri": "https://localhost:8080/",
          "height": 110
        },
        "outputId": "2eddb085-2b66-4026-b999-08792667b966"
      },
      "source": [
        "print('---review---')\n",
        "print(X_train[6])\n",
        "print('---label---')\n",
        "print(y_train[6])"
      ],
      "execution_count": 4,
      "outputs": [
        {
          "output_type": "stream",
          "text": [
            "---review---\n",
            "[1, 2, 365, 1234, 5, 1156, 354, 11, 14, 2, 2, 7, 1016, 2, 2, 356, 44, 4, 1349, 500, 746, 5, 200, 4, 4132, 11, 2, 2, 1117, 1831, 2, 5, 4831, 26, 6, 2, 4183, 17, 369, 37, 215, 1345, 143, 2, 5, 1838, 8, 1974, 15, 36, 119, 257, 85, 52, 486, 9, 6, 2, 2, 63, 271, 6, 196, 96, 949, 4121, 4, 2, 7, 4, 2212, 2436, 819, 63, 47, 77, 2, 180, 6, 227, 11, 94, 2494, 2, 13, 423, 4, 168, 7, 4, 22, 5, 89, 665, 71, 270, 56, 5, 13, 197, 12, 161, 2, 99, 76, 23, 2, 7, 419, 665, 40, 91, 85, 108, 7, 4, 2084, 5, 4773, 81, 55, 52, 1901]\n",
            "---label---\n",
            "1\n"
          ],
          "name": "stdout"
        }
      ]
    },
    {
      "cell_type": "code",
      "metadata": {
        "id": "IolhOVBoMUGp",
        "colab_type": "code",
        "colab": {
          "base_uri": "https://localhost:8080/",
          "height": 146
        },
        "outputId": "98cbf01a-6112-4e73-e64b-0a2eda73d36a"
      },
      "source": [
        "'''We can use the dictionary returned by imdb.get_word_index() to map the review back to the original words.'''\n",
        "word2id = imdb.get_word_index()\n",
        "id2word = {i: word for word, i in word2id.items()}\n",
        "print('---review with words---')\n",
        "print([id2word.get(i, ' ') for i in X_train[6]])\n",
        "print('---label---')\n",
        "print(y_train[6])\n",
        "\n"
      ],
      "execution_count": 5,
      "outputs": [
        {
          "output_type": "stream",
          "text": [
            "Downloading data from https://s3.amazonaws.com/text-datasets/imdb_word_index.json\n",
            "1646592/1641221 [==============================] - 1s 1us/step\n",
            "---review with words---\n",
            "['the', 'and', 'full', 'involving', 'to', 'impressive', 'boring', 'this', 'as', 'and', 'and', 'br', 'villain', 'and', 'and', 'need', 'has', 'of', 'costumes', 'b', 'message', 'to', 'may', 'of', 'props', 'this', 'and', 'and', 'concept', 'issue', 'and', 'to', \"god's\", 'he', 'is', 'and', 'unfolds', 'movie', 'women', 'like', \"isn't\", 'surely', \"i'm\", 'and', 'to', 'toward', 'in', \"here's\", 'for', 'from', 'did', 'having', 'because', 'very', 'quality', 'it', 'is', 'and', 'and', 'really', 'book', 'is', 'both', 'too', 'worked', 'carl', 'of', 'and', 'br', 'of', 'reviewer', 'closer', 'figure', 'really', 'there', 'will', 'and', 'things', 'is', 'far', 'this', 'make', 'mistakes', 'and', 'was', \"couldn't\", 'of', 'few', 'br', 'of', 'you', 'to', \"don't\", 'female', 'than', 'place', 'she', 'to', 'was', 'between', 'that', 'nothing', 'and', 'movies', 'get', 'are', 'and', 'br', 'yes', 'female', 'just', 'its', 'because', 'many', 'br', 'of', 'overly', 'to', 'descent', 'people', 'time', 'very', 'bland']\n",
            "---label---\n",
            "1\n"
          ],
          "name": "stdout"
        }
      ]
    },
    {
      "cell_type": "code",
      "metadata": {
        "id": "HHe7fcT0OBM2",
        "colab_type": "code",
        "colab": {
          "base_uri": "https://localhost:8080/",
          "height": 35
        },
        "outputId": "13fb32b0-db33-466e-9b4f-96b3082945c4"
      },
      "source": [
        "print('Maximum review length: {}'.format(\n",
        "len(max((X_train + X_test), key=len))))\n"
      ],
      "execution_count": 6,
      "outputs": [
        {
          "output_type": "stream",
          "text": [
            "Maximum review length: 2697\n"
          ],
          "name": "stdout"
        }
      ]
    },
    {
      "cell_type": "code",
      "metadata": {
        "id": "OcKxs10yxpzD",
        "colab_type": "code",
        "colab": {
          "base_uri": "https://localhost:8080/",
          "height": 35
        },
        "outputId": "f0b68755-fd90-45df-8c5c-3f6e934a5d1b"
      },
      "source": [
        "\n",
        "print('Minimum review length: {}'.format(\n",
        "len(min((X_train + X_test), key=len))))"
      ],
      "execution_count": 7,
      "outputs": [
        {
          "output_type": "stream",
          "text": [
            "Minimum review length: 70\n"
          ],
          "name": "stdout"
        }
      ]
    },
    {
      "cell_type": "code",
      "metadata": {
        "id": "BZo8lR_IxvDv",
        "colab_type": "code",
        "colab": {}
      },
      "source": [
        "max_review_length = 500\n",
        "X_train = sequence.pad_sequences(X_train, maxlen=max_review_length)\n",
        "X_test = sequence.pad_sequences(X_test, maxlen=max_review_length)"
      ],
      "execution_count": 0,
      "outputs": []
    },
    {
      "cell_type": "code",
      "metadata": {
        "id": "UHEJ4slcx4nC",
        "colab_type": "code",
        "colab": {
          "base_uri": "https://localhost:8080/",
          "height": 1000
        },
        "outputId": "c82c9784-cb8c-4a0a-feaa-451cd7e47e63"
      },
      "source": [
        "embedding_vecor_length = 32\n",
        "model = Sequential()\n",
        "model.add(Embedding(top_words, embedding_vecor_length, input_length=max_review_length))\n",
        "model.add(Dropout(0.2))\n",
        "model.add(LSTM(100))\n",
        "model.add(Dropout(0.2))\n",
        "model.add(Dense(1, activation='sigmoid'))\n",
        "\n",
        "'''We first need to compile our model by specifying the loss function and optimizer we want to use while training, as well as any evaluation metrics \n",
        "we’d like to measure. Specify the appropriate parameters, including at least one metric ‘accuracy’.'''\n",
        "model.compile(loss='binary_crossentropy', optimizer='adam', metrics=['accuracy'])\n",
        "print(model.summary())\n",
        "model.fit(X_train, y_train, validation_data=(X_test, y_test), epochs=30, batch_size=64)\n"
      ],
      "execution_count": 9,
      "outputs": [
        {
          "output_type": "stream",
          "text": [
            "Model: \"sequential_1\"\n",
            "_________________________________________________________________\n",
            "Layer (type)                 Output Shape              Param #   \n",
            "=================================================================\n",
            "embedding_1 (Embedding)      (None, 500, 32)           160000    \n",
            "_________________________________________________________________\n",
            "dropout_1 (Dropout)          (None, 500, 32)           0         \n",
            "_________________________________________________________________\n",
            "lstm_1 (LSTM)                (None, 100)               53200     \n",
            "_________________________________________________________________\n",
            "dropout_2 (Dropout)          (None, 100)               0         \n",
            "_________________________________________________________________\n",
            "dense_1 (Dense)              (None, 1)                 101       \n",
            "=================================================================\n",
            "Total params: 213,301\n",
            "Trainable params: 213,301\n",
            "Non-trainable params: 0\n",
            "_________________________________________________________________\n",
            "None\n"
          ],
          "name": "stdout"
        },
        {
          "output_type": "stream",
          "text": [
            "/usr/local/lib/python3.6/dist-packages/tensorflow/python/framework/indexed_slices.py:434: UserWarning: Converting sparse IndexedSlices to a dense Tensor of unknown shape. This may consume a large amount of memory.\n",
            "  \"Converting sparse IndexedSlices to a dense Tensor of unknown shape. \"\n"
          ],
          "name": "stderr"
        },
        {
          "output_type": "stream",
          "text": [
            "Train on 25000 samples, validate on 25000 samples\n",
            "Epoch 1/30\n",
            "25000/25000 [==============================] - 522s 21ms/step - loss: 0.4521 - accuracy: 0.7832 - val_loss: 0.3671 - val_accuracy: 0.8465\n",
            "Epoch 2/30\n",
            "25000/25000 [==============================] - 519s 21ms/step - loss: 0.3328 - accuracy: 0.8599 - val_loss: 0.3238 - val_accuracy: 0.8678\n",
            "Epoch 3/30\n",
            "25000/25000 [==============================] - 514s 21ms/step - loss: 0.2675 - accuracy: 0.8949 - val_loss: 0.3365 - val_accuracy: 0.8582\n",
            "Epoch 4/30\n",
            "25000/25000 [==============================] - 513s 21ms/step - loss: 0.2325 - accuracy: 0.9087 - val_loss: 0.3111 - val_accuracy: 0.8724\n",
            "Epoch 5/30\n",
            "25000/25000 [==============================] - 511s 20ms/step - loss: 0.2010 - accuracy: 0.9239 - val_loss: 0.3120 - val_accuracy: 0.8738\n",
            "Epoch 6/30\n",
            "25000/25000 [==============================] - 511s 20ms/step - loss: 0.1923 - accuracy: 0.9265 - val_loss: 0.3556 - val_accuracy: 0.8671\n",
            "Epoch 7/30\n",
            "25000/25000 [==============================] - 507s 20ms/step - loss: 0.1728 - accuracy: 0.9338 - val_loss: 0.3946 - val_accuracy: 0.8673\n",
            "Epoch 8/30\n",
            "25000/25000 [==============================] - 511s 20ms/step - loss: 0.1561 - accuracy: 0.9415 - val_loss: 0.3411 - val_accuracy: 0.8662\n",
            "Epoch 9/30\n",
            "25000/25000 [==============================] - 509s 20ms/step - loss: 0.1349 - accuracy: 0.9505 - val_loss: 0.3935 - val_accuracy: 0.8436\n",
            "Epoch 10/30\n",
            "25000/25000 [==============================] - 512s 20ms/step - loss: 0.1296 - accuracy: 0.9524 - val_loss: 0.4215 - val_accuracy: 0.8640\n",
            "Epoch 11/30\n",
            "25000/25000 [==============================] - 521s 21ms/step - loss: 0.1144 - accuracy: 0.9584 - val_loss: 0.4443 - val_accuracy: 0.8586\n",
            "Epoch 12/30\n",
            "25000/25000 [==============================] - 526s 21ms/step - loss: 0.1328 - accuracy: 0.9531 - val_loss: 0.4762 - val_accuracy: 0.8619\n",
            "Epoch 13/30\n",
            "25000/25000 [==============================] - 525s 21ms/step - loss: 0.0892 - accuracy: 0.9699 - val_loss: 0.6054 - val_accuracy: 0.8543\n",
            "Epoch 14/30\n",
            "25000/25000 [==============================] - 521s 21ms/step - loss: 0.1239 - accuracy: 0.9552 - val_loss: 0.4380 - val_accuracy: 0.8582\n",
            "Epoch 15/30\n",
            "25000/25000 [==============================] - 529s 21ms/step - loss: 0.0860 - accuracy: 0.9690 - val_loss: 0.5127 - val_accuracy: 0.8608\n",
            "Epoch 16/30\n",
            "25000/25000 [==============================] - 524s 21ms/step - loss: 0.0783 - accuracy: 0.9722 - val_loss: 0.5634 - val_accuracy: 0.8612\n",
            "Epoch 17/30\n",
            "25000/25000 [==============================] - 512s 20ms/step - loss: 0.0935 - accuracy: 0.9656 - val_loss: 0.6049 - val_accuracy: 0.8576\n",
            "Epoch 18/30\n",
            "25000/25000 [==============================] - 515s 21ms/step - loss: 0.0696 - accuracy: 0.9754 - val_loss: 0.5997 - val_accuracy: 0.8607\n",
            "Epoch 19/30\n",
            "25000/25000 [==============================] - 516s 21ms/step - loss: 0.0824 - accuracy: 0.9722 - val_loss: 0.5259 - val_accuracy: 0.8490\n",
            "Epoch 20/30\n",
            "25000/25000 [==============================] - 514s 21ms/step - loss: 0.0902 - accuracy: 0.9690 - val_loss: 0.5839 - val_accuracy: 0.8613\n",
            "Epoch 21/30\n",
            "25000/25000 [==============================] - 514s 21ms/step - loss: 0.0708 - accuracy: 0.9760 - val_loss: 0.6037 - val_accuracy: 0.8601\n",
            "Epoch 22/30\n",
            "25000/25000 [==============================] - 519s 21ms/step - loss: 0.0486 - accuracy: 0.9840 - val_loss: 0.6190 - val_accuracy: 0.8544\n",
            "Epoch 23/30\n",
            "25000/25000 [==============================] - 516s 21ms/step - loss: 0.0469 - accuracy: 0.9841 - val_loss: 0.6256 - val_accuracy: 0.8497\n",
            "Epoch 24/30\n",
            "25000/25000 [==============================] - 514s 21ms/step - loss: 0.0451 - accuracy: 0.9853 - val_loss: 0.6676 - val_accuracy: 0.8586\n",
            "Epoch 25/30\n",
            "25000/25000 [==============================] - 514s 21ms/step - loss: 0.0522 - accuracy: 0.9828 - val_loss: 0.7178 - val_accuracy: 0.8535\n",
            "Epoch 26/30\n",
            "25000/25000 [==============================] - 515s 21ms/step - loss: 0.0494 - accuracy: 0.9846 - val_loss: 0.6842 - val_accuracy: 0.8597\n",
            "Epoch 27/30\n",
            "25000/25000 [==============================] - 512s 20ms/step - loss: 0.0391 - accuracy: 0.9880 - val_loss: 0.6914 - val_accuracy: 0.8579\n",
            "Epoch 28/30\n",
            "25000/25000 [==============================] - 504s 20ms/step - loss: 0.0382 - accuracy: 0.9885 - val_loss: 0.7168 - val_accuracy: 0.8593\n",
            "Epoch 29/30\n",
            "25000/25000 [==============================] - 508s 20ms/step - loss: 0.0566 - accuracy: 0.9818 - val_loss: 0.6810 - val_accuracy: 0.8545\n",
            "Epoch 30/30\n",
            "25000/25000 [==============================] - 506s 20ms/step - loss: 0.0371 - accuracy: 0.9882 - val_loss: 0.7060 - val_accuracy: 0.8592\n"
          ],
          "name": "stdout"
        },
        {
          "output_type": "execute_result",
          "data": {
            "text/plain": [
              "<keras.callbacks.callbacks.History at 0x7f7e710c4e80>"
            ]
          },
          "metadata": {
            "tags": []
          },
          "execution_count": 9
        }
      ]
    },
    {
      "cell_type": "code",
      "metadata": {
        "id": "SMABgA36yoDb",
        "colab_type": "code",
        "colab": {
          "base_uri": "https://localhost:8080/",
          "height": 35
        },
        "outputId": "70d93a84-371d-44e5-eeb7-6d6175beb363"
      },
      "source": [
        "scores = model.evaluate(X_test, y_test, verbose=0)\n",
        "print(\"Accuracy: %.2f%%\" % (scores[1]*100))"
      ],
      "execution_count": 10,
      "outputs": [
        {
          "output_type": "stream",
          "text": [
            "Accuracy: 85.92%\n"
          ],
          "name": "stdout"
        }
      ]
    },
    {
      "cell_type": "code",
      "metadata": {
        "id": "XP7ZP0Y7v-xG",
        "colab_type": "code",
        "colab": {
          "base_uri": "https://localhost:8080/",
          "height": 144
        },
        "outputId": "b4bf78a4-d75f-4d5b-dd15-1511a5bc03c9"
      },
      "source": [
        "!apt-get install -y -qq software-properties-common python-software-properties module-init-tools\n",
        "!add-apt-repository -y ppa:alessandro-strada/ppa 2>&1 > /dev/null\n",
        "!apt-get update -qq 2>&1 > /dev/null\n",
        "!apt-get -y install -qq google-drive-ocamlfuse fuse"
      ],
      "execution_count": 11,
      "outputs": [
        {
          "output_type": "stream",
          "text": [
            "E: Package 'python-software-properties' has no installation candidate\n",
            "Selecting previously unselected package google-drive-ocamlfuse.\n",
            "(Reading database ... 144433 files and directories currently installed.)\n",
            "Preparing to unpack .../google-drive-ocamlfuse_0.7.21-0ubuntu1~ubuntu18.04.1_amd64.deb ...\n",
            "Unpacking google-drive-ocamlfuse (0.7.21-0ubuntu1~ubuntu18.04.1) ...\n",
            "Setting up google-drive-ocamlfuse (0.7.21-0ubuntu1~ubuntu18.04.1) ...\n",
            "Processing triggers for man-db (2.8.3-2ubuntu0.1) ...\n"
          ],
          "name": "stdout"
        }
      ]
    },
    {
      "cell_type": "code",
      "metadata": {
        "id": "DJD1JEpBwXkD",
        "colab_type": "code",
        "colab": {}
      },
      "source": [
        "from google.colab import auth\n",
        "auth.authenticate_user()"
      ],
      "execution_count": 0,
      "outputs": []
    },
    {
      "cell_type": "code",
      "metadata": {
        "id": "FmL5qL-BwncB",
        "colab_type": "code",
        "colab": {
          "base_uri": "https://localhost:8080/",
          "height": 110
        },
        "outputId": "70c61b44-8e3d-4323-d8a0-6e48c49b25fc"
      },
      "source": [
        "from oauth2client.client import GoogleCredentials\n",
        "creds = GoogleCredentials.get_application_default()\n",
        "import getpass\n",
        "!google-drive-ocamlfuse -headless -id={creds.client_id} -secret={creds.client_secret} < /dev/null 2>&1 | grep URL\n",
        "vcode = getpass.getpass()\n",
        "!echo {vcode} | google-drive-ocamlfuse -headless -id={creds.client_id} -secret={creds.client_secret}"
      ],
      "execution_count": 13,
      "outputs": [
        {
          "output_type": "stream",
          "text": [
            "Please, open the following URL in a web browser: https://accounts.google.com/o/oauth2/auth?client_id=32555940559.apps.googleusercontent.com&redirect_uri=urn%3Aietf%3Awg%3Aoauth%3A2.0%3Aoob&scope=https%3A%2F%2Fwww.googleapis.com%2Fauth%2Fdrive&response_type=code&access_type=offline&approval_prompt=force\n",
            "··········\n",
            "Please, open the following URL in a web browser: https://accounts.google.com/o/oauth2/auth?client_id=32555940559.apps.googleusercontent.com&redirect_uri=urn%3Aietf%3Awg%3Aoauth%3A2.0%3Aoob&scope=https%3A%2F%2Fwww.googleapis.com%2Fauth%2Fdrive&response_type=code&access_type=offline&approval_prompt=force\n",
            "Please enter the verification code: Access token retrieved correctly.\n"
          ],
          "name": "stdout"
        }
      ]
    },
    {
      "cell_type": "code",
      "metadata": {
        "id": "yDb-PKWyw8Nv",
        "colab_type": "code",
        "colab": {}
      },
      "source": [
        "#Mount your Google Drive:\n",
        "!mkdir -p drive\n",
        "!google-drive-ocamlfuse drive"
      ],
      "execution_count": 0,
      "outputs": []
    },
    {
      "cell_type": "code",
      "metadata": {
        "id": "U309qfmwxJGr",
        "colab_type": "code",
        "colab": {
          "base_uri": "https://localhost:8080/",
          "height": 944
        },
        "outputId": "c0127f27-1955-457b-d3ef-d26c01a100f2"
      },
      "source": [
        "import os\n",
        "os.mkdir(\"/content/drive/Sentiment_Analysis\")\n",
        "os.chdir(\"/content/drive/\")\n",
        "!ls"
      ],
      "execution_count": 15,
      "outputs": [
        {
          "output_type": "stream",
          "text": [
            " 1060060.pdf\n",
            " 1ds17cs717.pdf\n",
            "'2nd internals april 2020'\n",
            "'5thsem project'\n",
            "'6th sem'\n",
            " 717_ONE.atmx\n",
            " 8014258.pdf\n",
            "'BTech Invitation Letter.pdf'\n",
            " cakephp\n",
            " Certificates\n",
            " Civil\n",
            "'Clg results'\n",
            "'Colab Notebooks'\n",
            " Cuspera\n",
            "'cuspera testing project'\n",
            "'data science'\n",
            " Design\n",
            " Doc1.desktop\n",
            " Doc1.docx\n",
            "'documents of dsce'\n",
            " _DSC6266.JPG\n",
            " DSCE\n",
            "'Ethnic 2k19'\n",
            "'Ethnic day 2k18'\n",
            "'Event Registration.desktop'\n",
            "'Flat 993'\n",
            "'GIRLSCRIPT BLR'\n",
            "'Google Photos'\n",
            "'HC Verma Solutions: Chapter 3 - Rest and Motion - Kinematics.pdf'\n",
            "'How to get started with Drive'\n",
            " internship\n",
            "'JEE(Advanced)_RegistrationDetailsPage.pdf'\n",
            " JSON\n",
            "'mp lab 2019'\n",
            "'MP Record doc.desktop'\n",
            "'my doc'\n",
            " Placements\n",
            "'Placements 2k21'\n",
            "'resume-12sept (63b221e9).pdf'\n",
            "'resume-12sept - Gaurang Mittal.pdf'\n",
            " resume-12sept.pdf\n",
            " Screenshot_2019-04-22-18-19-24-828_net.one97.paytm.png\n",
            " Screenshot_2019-05-08-20-17-24-477_net.one97.paytm.png\n",
            " Sentiment_Analysis\n",
            "'sentiment anaylsis'\n",
            "'Training Feedback - AAU.docx'\n",
            "'Training Feedback - AAU - Gaurang Mittal.docx'\n",
            " UG-ML-2020\n",
            "'Untitled form.desktop'\n",
            "'UPDATE(27-06).pdf'\n",
            "'WEB PROJECTS'\n"
          ],
          "name": "stdout"
        }
      ]
    },
    {
      "cell_type": "code",
      "metadata": {
        "id": "_eQp2iemxT2L",
        "colab_type": "code",
        "colab": {}
      },
      "source": [
        "import sys\n",
        "sys.path.append('/content/drive/Sentiment_Analysis')\n"
      ],
      "execution_count": 0,
      "outputs": []
    },
    {
      "cell_type": "code",
      "metadata": {
        "id": "eIq4NJIOxirP",
        "colab_type": "code",
        "colab": {
          "base_uri": "https://localhost:8080/",
          "height": 35
        },
        "outputId": "8325dc69-bf0a-432f-a4ba-7e46886d23d4"
      },
      "source": [
        "model.save('/content/drive/Sentiment_Analysis/sentiment_analysis_model_new.h5')\n",
        "print(\"Saved model to disk\")\n"
      ],
      "execution_count": 17,
      "outputs": [
        {
          "output_type": "stream",
          "text": [
            "Saved model to disk\n"
          ],
          "name": "stdout"
        }
      ]
    },
    {
      "cell_type": "code",
      "metadata": {
        "id": "ThHwz8dAxmrF",
        "colab_type": "code",
        "colab": {
          "base_uri": "https://localhost:8080/",
          "height": 35
        },
        "outputId": "199c94ec-32d7-4bf3-e1a4-2abf5918fe78"
      },
      "source": [
        "os.chdir(\"/content/drive/Sentiment_Analysis\")\n",
        "!ls"
      ],
      "execution_count": 18,
      "outputs": [
        {
          "output_type": "stream",
          "text": [
            "sentiment_analysis_model_new.h5\n"
          ],
          "name": "stdout"
        }
      ]
    },
    {
      "cell_type": "code",
      "metadata": {
        "id": "UEluvhivxpbA",
        "colab_type": "code",
        "colab": {
          "base_uri": "https://localhost:8080/",
          "height": 92
        },
        "outputId": "e2bb4a4b-76e9-45f5-c13b-db200f08317c"
      },
      "source": [
        "model = load_model('/content/drive/Sentiment_Analysis/sentiment_analysis_model_new.h5')\n",
        "print(\"Model Loaded\")\n"
      ],
      "execution_count": 19,
      "outputs": [
        {
          "output_type": "stream",
          "text": [
            "/usr/local/lib/python3.6/dist-packages/tensorflow/python/framework/indexed_slices.py:434: UserWarning: Converting sparse IndexedSlices to a dense Tensor of unknown shape. This may consume a large amount of memory.\n",
            "  \"Converting sparse IndexedSlices to a dense Tensor of unknown shape. \"\n"
          ],
          "name": "stderr"
        },
        {
          "output_type": "stream",
          "text": [
            "Model Loaded\n"
          ],
          "name": "stdout"
        }
      ]
    },
    {
      "cell_type": "code",
      "metadata": {
        "id": "bDZ7YoXkxrgr",
        "colab_type": "code",
        "colab": {}
      },
      "source": [
        ""
      ],
      "execution_count": 0,
      "outputs": []
    }
  ]
}